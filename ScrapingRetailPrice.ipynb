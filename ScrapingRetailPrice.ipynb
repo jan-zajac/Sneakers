{
 "cells": [
  {
   "cell_type": "code",
   "execution_count": 22,
   "metadata": {},
   "outputs": [],
   "source": [
    "import requests\n",
    "import json\n",
    "import pandas as pd\n",
    "from bs4 import BeautifulSoup\n",
    "import time\n",
    "import pandas as pd\n",
    "import os\n",
    "\n",
    "from itertools import cycle\n",
    "\n",
    "def return_response(url):\n",
    "    headers = {\n",
    "            'sec-fetch-mode': 'cors',\n",
    "            'accept-language': 'en-US,en;q=0.9',\n",
    "            'authorization': '',\n",
    "            'x-requested-with': 'XMLHttpRequest',\n",
    "            'appos': 'web',\n",
    "            'user-agent': 'Mozilla/5.0 (Macintosh; Intel Mac OS X 10_14_6) AppleWebKit/537.36 (KHTML, like Gecko) Chrome/77.0.3865.120 Safari/537.36',\n",
    "            'accept': '*/*',\n",
    "            'authority': 'stockx.com',\n",
    "            'sec-fetch-site': 'same-origin',\n",
    "            'appversion': '0.1',\n",
    "    'accept': 'application/json'}\n",
    "    \n",
    "    return requests.get(url, headers=headers)\n",
    "\n",
    "def play_alert():\n",
    "    file = './/sms-alert-3-daniel_simon.mp3'\n",
    "    os.system(\"afplay \" + file)\n",
    "\n",
    "def return_page_has_sale_price(page_response):\n",
    "    page_content = BeautifulSoup(page_response.content, \"html.parser\")\n",
    "    soup_page_content = page_content.findAll(\"div\", {\"class\": \"last-sale-value\"})\n",
    "    \n",
    "    if len(soup_page_content) != 0 and page_response.ok == True:\n",
    "        print('page loaded succesfully')\n",
    "        return True\n",
    "    \n",
    "    else:\n",
    "        print('page did not load')\n",
    "        return False\n",
    "            \n",
    "def scrape_retail_price(url):\n",
    "    page_response = return_response(url)\n",
    "    if return_page_has_sale_price(page_response) == True:\n",
    "        soup = BeautifulSoup(page_response.content, \"html.parser\")\n",
    "        data = soup.findAll(\"span\", {\"class\": \"sneak-score\"})\n",
    "        split_price = data[1].text\n",
    "        retail_price = split_price.split('$')[-1]\n",
    "        return retail_price\n",
    "    \n",
    "    else:\n",
    "        play_alert()\n",
    "        print(f'broke on url {url}')\n",
    "        raise SystemExit"
   ]
  },
  {
   "cell_type": "code",
   "execution_count": 19,
   "metadata": {},
   "outputs": [],
   "source": [
    "nike_df = pd.read_csv('persistence/nikes.clean.csv')"
   ]
  },
  {
   "cell_type": "code",
   "execution_count": 20,
   "metadata": {},
   "outputs": [],
   "source": [
    "urls = nike_df['url']"
   ]
  },
  {
   "cell_type": "code",
   "execution_count": 21,
   "metadata": {},
   "outputs": [
    {
     "name": "stdout",
     "output_type": "stream",
     "text": [
      "page loaded succesfully\n",
      "200\n"
     ]
    },
    {
     "data": {
      "text/plain": [
       "'200'"
      ]
     },
     "execution_count": 21,
     "metadata": {},
     "output_type": "execute_result"
    }
   ],
   "source": [
    "scrape_retail_price(test_url)"
   ]
  },
  {
   "cell_type": "code",
   "execution_count": 12,
   "metadata": {},
   "outputs": [],
   "source": [
    "retail_prices = {}\n",
    "wait_seconds = [1, 2, 4, 5, 6, 7]\n",
    "wait_pool = cycle(wait_seconds)"
   ]
  },
  {
   "cell_type": "code",
   "execution_count": 13,
   "metadata": {},
   "outputs": [
    {
     "name": "stdout",
     "output_type": "stream",
     "text": [
      "https://stockx.com/nike-sb-dunk-low-raygun-tie-dye\n",
      "page loaded succesfully\n",
      "100\n",
      "https://stockx.com/nike-dunk-low-off-white-pine-green\n",
      "page loaded succesfully\n",
      "170\n"
     ]
    },
    {
     "ename": "KeyboardInterrupt",
     "evalue": "",
     "output_type": "error",
     "traceback": [
      "\u001b[0;31m---------------------------------------------------------------------------\u001b[0m",
      "\u001b[0;31mKeyboardInterrupt\u001b[0m                         Traceback (most recent call last)",
      "\u001b[0;32m<ipython-input-13-a548c47770a2>\u001b[0m in \u001b[0;36m<module>\u001b[0;34m\u001b[0m\n\u001b[1;32m      3\u001b[0m         \u001b[0;32mtry\u001b[0m\u001b[0;34m:\u001b[0m\u001b[0;34m\u001b[0m\u001b[0;34m\u001b[0m\u001b[0m\n\u001b[1;32m      4\u001b[0m             \u001b[0mwait\u001b[0m \u001b[0;34m=\u001b[0m \u001b[0mnext\u001b[0m\u001b[0;34m(\u001b[0m\u001b[0mwait_pool\u001b[0m\u001b[0;34m)\u001b[0m\u001b[0;34m\u001b[0m\u001b[0;34m\u001b[0m\u001b[0m\n\u001b[0;32m----> 5\u001b[0;31m             \u001b[0mtime\u001b[0m\u001b[0;34m.\u001b[0m\u001b[0msleep\u001b[0m\u001b[0;34m(\u001b[0m\u001b[0mwait\u001b[0m\u001b[0;34m)\u001b[0m\u001b[0;34m\u001b[0m\u001b[0;34m\u001b[0m\u001b[0m\n\u001b[0m\u001b[1;32m      6\u001b[0m             \u001b[0mprint\u001b[0m\u001b[0;34m(\u001b[0m\u001b[0murl\u001b[0m\u001b[0;34m)\u001b[0m\u001b[0;34m\u001b[0m\u001b[0;34m\u001b[0m\u001b[0m\n\u001b[1;32m      7\u001b[0m             \u001b[0mretail_prices\u001b[0m\u001b[0;34m[\u001b[0m\u001b[0murl\u001b[0m\u001b[0;34m]\u001b[0m \u001b[0;34m=\u001b[0m \u001b[0mscrape_retail_price\u001b[0m\u001b[0;34m(\u001b[0m\u001b[0murl\u001b[0m\u001b[0;34m)\u001b[0m\u001b[0;34m\u001b[0m\u001b[0;34m\u001b[0m\u001b[0m\n",
      "\u001b[0;31mKeyboardInterrupt\u001b[0m: "
     ]
    }
   ],
   "source": [
    "for url in (urls):\n",
    "    if url not in retail_prices:\n",
    "        try:\n",
    "            wait = next(wait_pool)\n",
    "            time.sleep(wait)\n",
    "            print(url)\n",
    "            retail_prices[url] = scrape_retail_price(url)\n",
    "        except requests.exceptions.MissingSchema:\n",
    "            print('missing schema')\n",
    "            pass"
   ]
  },
  {
   "cell_type": "code",
   "execution_count": 14,
   "metadata": {},
   "outputs": [
    {
     "data": {
      "text/plain": [
       "2"
      ]
     },
     "execution_count": 14,
     "metadata": {},
     "output_type": "execute_result"
    }
   ],
   "source": [
    "len(retail_prices)"
   ]
  },
  {
   "cell_type": "code",
   "execution_count": 15,
   "metadata": {},
   "outputs": [
    {
     "data": {
      "text/plain": [
       "{'https://stockx.com/nike-sb-dunk-low-raygun-tie-dye': '100',\n",
       " 'https://stockx.com/nike-dunk-low-off-white-pine-green': '170'}"
      ]
     },
     "execution_count": 15,
     "metadata": {},
     "output_type": "execute_result"
    }
   ],
   "source": [
    "retail_prices"
   ]
  },
  {
   "cell_type": "code",
   "execution_count": 43,
   "metadata": {},
   "outputs": [],
   "source": [
    "price_df = pd.DataFrame(list(retail_prices.items()), columns=['url', 'retailPrice($)'])"
   ]
  },
  {
   "cell_type": "code",
   "execution_count": 44,
   "metadata": {},
   "outputs": [],
   "source": [
    "df_merged = pd.merge(nike_df, price_df, on='url', how='outer')"
   ]
  },
  {
   "cell_type": "code",
   "execution_count": 45,
   "metadata": {},
   "outputs": [
    {
     "data": {
      "text/plain": [
       "color                        Black/Metallic Silver-White-Pink Blast\n",
       "name                    Nike Zoom Terra Kiger 5 Off-White Black (W)\n",
       "sku                            875fb3df-eb58-4192-bfe6-c89203aa80f7\n",
       "itemCondition                       https://schema.org/NewCondition\n",
       "releaseDate                                     2019-06-24 23:59:59\n",
       "image             https://stockx.imgix.net/Nike-Zoom-Terra-Kiger...\n",
       "brand                                                          Nike\n",
       "model                                       Nike Zoom Terra Kiger 5\n",
       "url               https://stockx.com/nike-zoom-terra-kiger-5-off...\n",
       "retailPrice($)                                                  180\n",
       "Name: 20, dtype: object"
      ]
     },
     "execution_count": 45,
     "metadata": {},
     "output_type": "execute_result"
    }
   ],
   "source": [
    "df_merged.iloc[20]"
   ]
  },
  {
   "cell_type": "code",
   "execution_count": 46,
   "metadata": {},
   "outputs": [],
   "source": [
    "df_merged.to_csv('persistence/nikes.out.csv', index=False)"
   ]
  }
 ],
 "metadata": {
  "kernelspec": {
   "display_name": "Python 3",
   "language": "python",
   "name": "python3"
  },
  "language_info": {
   "codemirror_mode": {
    "name": "ipython",
    "version": 3
   },
   "file_extension": ".py",
   "mimetype": "text/x-python",
   "name": "python",
   "nbconvert_exporter": "python",
   "pygments_lexer": "ipython3",
   "version": "3.7.3"
  }
 },
 "nbformat": 4,
 "nbformat_minor": 2
}
